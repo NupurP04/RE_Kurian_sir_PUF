{
  "nbformat": 4,
  "nbformat_minor": 0,
  "metadata": {
    "colab": {
      "provenance": []
    },
    "kernelspec": {
      "name": "python3",
      "display_name": "Python 3"
    },
    "language_info": {
      "name": "python"
    }
  },
  "cells": [
    {
      "cell_type": "code",
      "execution_count": 1,
      "metadata": {
        "colab": {
          "base_uri": "https://localhost:8080/",
          "height": 1000
        },
        "id": "Tf3tBGPhHKxV",
        "outputId": "741238f3-9f06-4480-add6-3f04f6b9ac96"
      },
      "outputs": [
        {
          "output_type": "stream",
          "name": "stdout",
          "text": [
            "Collecting tensorflow==2.12\n",
            "  Downloading tensorflow-2.12.0-cp311-cp311-manylinux_2_17_x86_64.manylinux2014_x86_64.whl.metadata (3.4 kB)\n",
            "Collecting keras==2.12\n",
            "  Downloading keras-2.12.0-py2.py3-none-any.whl.metadata (1.4 kB)\n",
            "Collecting larq\n",
            "  Downloading larq-0.13.3-py3-none-any.whl.metadata (6.5 kB)\n",
            "Requirement already satisfied: absl-py>=1.0.0 in /usr/local/lib/python3.11/dist-packages (from tensorflow==2.12) (1.4.0)\n",
            "Requirement already satisfied: astunparse>=1.6.0 in /usr/local/lib/python3.11/dist-packages (from tensorflow==2.12) (1.6.3)\n",
            "Requirement already satisfied: flatbuffers>=2.0 in /usr/local/lib/python3.11/dist-packages (from tensorflow==2.12) (25.2.10)\n",
            "Collecting gast<=0.4.0,>=0.2.1 (from tensorflow==2.12)\n",
            "  Downloading gast-0.4.0-py3-none-any.whl.metadata (1.1 kB)\n",
            "Requirement already satisfied: google-pasta>=0.1.1 in /usr/local/lib/python3.11/dist-packages (from tensorflow==2.12) (0.2.0)\n",
            "Requirement already satisfied: grpcio<2.0,>=1.24.3 in /usr/local/lib/python3.11/dist-packages (from tensorflow==2.12) (1.71.0)\n",
            "Requirement already satisfied: h5py>=2.9.0 in /usr/local/lib/python3.11/dist-packages (from tensorflow==2.12) (3.13.0)\n",
            "Requirement already satisfied: jax>=0.3.15 in /usr/local/lib/python3.11/dist-packages (from tensorflow==2.12) (0.5.2)\n",
            "Requirement already satisfied: libclang>=13.0.0 in /usr/local/lib/python3.11/dist-packages (from tensorflow==2.12) (18.1.1)\n",
            "Collecting numpy<1.24,>=1.22 (from tensorflow==2.12)\n",
            "  Downloading numpy-1.23.5-cp311-cp311-manylinux_2_17_x86_64.manylinux2014_x86_64.whl.metadata (2.3 kB)\n",
            "Requirement already satisfied: opt-einsum>=2.3.2 in /usr/local/lib/python3.11/dist-packages (from tensorflow==2.12) (3.4.0)\n",
            "Requirement already satisfied: packaging in /usr/local/lib/python3.11/dist-packages (from tensorflow==2.12) (24.2)\n",
            "Collecting protobuf!=4.21.0,!=4.21.1,!=4.21.2,!=4.21.3,!=4.21.4,!=4.21.5,<5.0.0dev,>=3.20.3 (from tensorflow==2.12)\n",
            "  Downloading protobuf-4.25.7-cp37-abi3-manylinux2014_x86_64.whl.metadata (541 bytes)\n",
            "Requirement already satisfied: setuptools in /usr/local/lib/python3.11/dist-packages (from tensorflow==2.12) (75.2.0)\n",
            "Requirement already satisfied: six>=1.12.0 in /usr/local/lib/python3.11/dist-packages (from tensorflow==2.12) (1.17.0)\n",
            "Collecting tensorboard<2.13,>=2.12 (from tensorflow==2.12)\n",
            "  Downloading tensorboard-2.12.3-py3-none-any.whl.metadata (1.8 kB)\n",
            "Collecting tensorflow-estimator<2.13,>=2.12.0 (from tensorflow==2.12)\n",
            "  Downloading tensorflow_estimator-2.12.0-py2.py3-none-any.whl.metadata (1.3 kB)\n",
            "Requirement already satisfied: termcolor>=1.1.0 in /usr/local/lib/python3.11/dist-packages (from tensorflow==2.12) (3.0.1)\n",
            "Requirement already satisfied: typing-extensions>=3.6.6 in /usr/local/lib/python3.11/dist-packages (from tensorflow==2.12) (4.13.2)\n",
            "Collecting wrapt<1.15,>=1.11.0 (from tensorflow==2.12)\n",
            "  Downloading wrapt-1.14.1-cp311-cp311-manylinux_2_5_x86_64.manylinux1_x86_64.manylinux_2_17_x86_64.manylinux2014_x86_64.whl.metadata (6.7 kB)\n",
            "Requirement already satisfied: tensorflow-io-gcs-filesystem>=0.23.1 in /usr/local/lib/python3.11/dist-packages (from tensorflow==2.12) (0.37.1)\n",
            "Collecting terminaltables>=3.1.0 (from larq)\n",
            "  Downloading terminaltables-3.1.10-py2.py3-none-any.whl.metadata (3.5 kB)\n",
            "Requirement already satisfied: wheel<1.0,>=0.23.0 in /usr/local/lib/python3.11/dist-packages (from astunparse>=1.6.0->tensorflow==2.12) (0.45.1)\n",
            "Requirement already satisfied: jaxlib<=0.5.2,>=0.5.1 in /usr/local/lib/python3.11/dist-packages (from jax>=0.3.15->tensorflow==2.12) (0.5.1)\n",
            "Requirement already satisfied: ml_dtypes>=0.4.0 in /usr/local/lib/python3.11/dist-packages (from jax>=0.3.15->tensorflow==2.12) (0.4.1)\n",
            "INFO: pip is looking at multiple versions of jax to determine which version is compatible with other requirements. This could take a while.\n",
            "Collecting jax>=0.3.15 (from tensorflow==2.12)\n",
            "  Downloading jax-0.6.0-py3-none-any.whl.metadata (22 kB)\n",
            "Collecting jaxlib<=0.6.0,>=0.6.0 (from jax>=0.3.15->tensorflow==2.12)\n",
            "  Downloading jaxlib-0.6.0-cp311-cp311-manylinux2014_x86_64.whl.metadata (1.2 kB)\n",
            "Collecting ml_dtypes>=0.5.0 (from jax>=0.3.15->tensorflow==2.12)\n",
            "  Downloading ml_dtypes-0.5.1-cp311-cp311-manylinux_2_17_x86_64.manylinux2014_x86_64.whl.metadata (21 kB)\n",
            "Collecting jax>=0.3.15 (from tensorflow==2.12)\n",
            "  Downloading jax-0.5.3-py3-none-any.whl.metadata (22 kB)\n",
            "Collecting jaxlib<=0.5.3,>=0.5.3 (from jax>=0.3.15->tensorflow==2.12)\n",
            "  Downloading jaxlib-0.5.3-cp311-cp311-manylinux2014_x86_64.whl.metadata (1.2 kB)\n",
            "Collecting jax>=0.3.15 (from tensorflow==2.12)\n",
            "  Downloading jax-0.5.1-py3-none-any.whl.metadata (22 kB)\n",
            "  Downloading jax-0.5.0-py3-none-any.whl.metadata (22 kB)\n",
            "Collecting jaxlib<=0.5.0,>=0.5.0 (from jax>=0.3.15->tensorflow==2.12)\n",
            "  Downloading jaxlib-0.5.0-cp311-cp311-manylinux2014_x86_64.whl.metadata (978 bytes)\n",
            "Collecting jax>=0.3.15 (from tensorflow==2.12)\n",
            "  Downloading jax-0.4.38-py3-none-any.whl.metadata (22 kB)\n",
            "Collecting jaxlib<=0.4.38,>=0.4.38 (from jax>=0.3.15->tensorflow==2.12)\n",
            "  Downloading jaxlib-0.4.38-cp311-cp311-manylinux2014_x86_64.whl.metadata (1.0 kB)\n",
            "Collecting jax>=0.3.15 (from tensorflow==2.12)\n",
            "  Downloading jax-0.4.37-py3-none-any.whl.metadata (22 kB)\n",
            "Collecting jaxlib<=0.4.37,>=0.4.36 (from jax>=0.3.15->tensorflow==2.12)\n",
            "  Downloading jaxlib-0.4.36-cp311-cp311-manylinux2014_x86_64.whl.metadata (1.0 kB)\n",
            "Collecting jax>=0.3.15 (from tensorflow==2.12)\n",
            "  Downloading jax-0.4.36-py3-none-any.whl.metadata (22 kB)\n",
            "INFO: pip is still looking at multiple versions of jax to determine which version is compatible with other requirements. This could take a while.\n",
            "  Downloading jax-0.4.35-py3-none-any.whl.metadata (22 kB)\n",
            "Collecting jaxlib<=0.4.35,>=0.4.34 (from jax>=0.3.15->tensorflow==2.12)\n",
            "  Downloading jaxlib-0.4.35-cp311-cp311-manylinux2014_x86_64.whl.metadata (983 bytes)\n",
            "Collecting jax>=0.3.15 (from tensorflow==2.12)\n",
            "  Downloading jax-0.4.34-py3-none-any.whl.metadata (22 kB)\n",
            "Collecting jaxlib<=0.4.34,>=0.4.34 (from jax>=0.3.15->tensorflow==2.12)\n",
            "  Downloading jaxlib-0.4.34-cp311-cp311-manylinux2014_x86_64.whl.metadata (983 bytes)\n",
            "Collecting jax>=0.3.15 (from tensorflow==2.12)\n",
            "  Downloading jax-0.4.33-py3-none-any.whl.metadata (22 kB)\n",
            "Collecting jaxlib<=0.4.33,>=0.4.33 (from jax>=0.3.15->tensorflow==2.12)\n",
            "  Downloading jaxlib-0.4.33-cp311-cp311-manylinux2014_x86_64.whl.metadata (983 bytes)\n",
            "Collecting jax>=0.3.15 (from tensorflow==2.12)\n",
            "  Downloading jax-0.4.31-py3-none-any.whl.metadata (22 kB)\n",
            "Collecting jaxlib<=0.4.31,>=0.4.30 (from jax>=0.3.15->tensorflow==2.12)\n",
            "  Downloading jaxlib-0.4.31-cp311-cp311-manylinux2014_x86_64.whl.metadata (983 bytes)\n",
            "Collecting jax>=0.3.15 (from tensorflow==2.12)\n",
            "  Downloading jax-0.4.30-py3-none-any.whl.metadata (22 kB)\n",
            "Collecting jaxlib<=0.4.30,>=0.4.27 (from jax>=0.3.15->tensorflow==2.12)\n",
            "  Downloading jaxlib-0.4.30-cp311-cp311-manylinux2014_x86_64.whl.metadata (1.0 kB)\n",
            "Requirement already satisfied: scipy>=1.9 in /usr/local/lib/python3.11/dist-packages (from jax>=0.3.15->tensorflow==2.12) (1.14.1)\n",
            "Requirement already satisfied: google-auth<3,>=1.6.3 in /usr/local/lib/python3.11/dist-packages (from tensorboard<2.13,>=2.12->tensorflow==2.12) (2.38.0)\n",
            "Collecting google-auth-oauthlib<1.1,>=0.5 (from tensorboard<2.13,>=2.12->tensorflow==2.12)\n",
            "  Downloading google_auth_oauthlib-1.0.0-py2.py3-none-any.whl.metadata (2.7 kB)\n",
            "Requirement already satisfied: markdown>=2.6.8 in /usr/local/lib/python3.11/dist-packages (from tensorboard<2.13,>=2.12->tensorflow==2.12) (3.8)\n",
            "Requirement already satisfied: requests<3,>=2.21.0 in /usr/local/lib/python3.11/dist-packages (from tensorboard<2.13,>=2.12->tensorflow==2.12) (2.32.3)\n",
            "Requirement already satisfied: tensorboard-data-server<0.8.0,>=0.7.0 in /usr/local/lib/python3.11/dist-packages (from tensorboard<2.13,>=2.12->tensorflow==2.12) (0.7.2)\n",
            "Requirement already satisfied: werkzeug>=1.0.1 in /usr/local/lib/python3.11/dist-packages (from tensorboard<2.13,>=2.12->tensorflow==2.12) (3.1.3)\n",
            "Requirement already satisfied: cachetools<6.0,>=2.0.0 in /usr/local/lib/python3.11/dist-packages (from google-auth<3,>=1.6.3->tensorboard<2.13,>=2.12->tensorflow==2.12) (5.5.2)\n",
            "Requirement already satisfied: pyasn1-modules>=0.2.1 in /usr/local/lib/python3.11/dist-packages (from google-auth<3,>=1.6.3->tensorboard<2.13,>=2.12->tensorflow==2.12) (0.4.2)\n",
            "Requirement already satisfied: rsa<5,>=3.1.4 in /usr/local/lib/python3.11/dist-packages (from google-auth<3,>=1.6.3->tensorboard<2.13,>=2.12->tensorflow==2.12) (4.9.1)\n",
            "Requirement already satisfied: requests-oauthlib>=0.7.0 in /usr/local/lib/python3.11/dist-packages (from google-auth-oauthlib<1.1,>=0.5->tensorboard<2.13,>=2.12->tensorflow==2.12) (2.0.0)\n",
            "Requirement already satisfied: charset-normalizer<4,>=2 in /usr/local/lib/python3.11/dist-packages (from requests<3,>=2.21.0->tensorboard<2.13,>=2.12->tensorflow==2.12) (3.4.1)\n",
            "Requirement already satisfied: idna<4,>=2.5 in /usr/local/lib/python3.11/dist-packages (from requests<3,>=2.21.0->tensorboard<2.13,>=2.12->tensorflow==2.12) (3.10)\n",
            "Requirement already satisfied: urllib3<3,>=1.21.1 in /usr/local/lib/python3.11/dist-packages (from requests<3,>=2.21.0->tensorboard<2.13,>=2.12->tensorflow==2.12) (2.3.0)\n",
            "Requirement already satisfied: certifi>=2017.4.17 in /usr/local/lib/python3.11/dist-packages (from requests<3,>=2.21.0->tensorboard<2.13,>=2.12->tensorflow==2.12) (2025.1.31)\n",
            "Requirement already satisfied: MarkupSafe>=2.1.1 in /usr/local/lib/python3.11/dist-packages (from werkzeug>=1.0.1->tensorboard<2.13,>=2.12->tensorflow==2.12) (3.0.2)\n",
            "Requirement already satisfied: pyasn1<0.7.0,>=0.6.1 in /usr/local/lib/python3.11/dist-packages (from pyasn1-modules>=0.2.1->google-auth<3,>=1.6.3->tensorboard<2.13,>=2.12->tensorflow==2.12) (0.6.1)\n",
            "Requirement already satisfied: oauthlib>=3.0.0 in /usr/local/lib/python3.11/dist-packages (from requests-oauthlib>=0.7.0->google-auth-oauthlib<1.1,>=0.5->tensorboard<2.13,>=2.12->tensorflow==2.12) (3.2.2)\n",
            "Downloading tensorflow-2.12.0-cp311-cp311-manylinux_2_17_x86_64.manylinux2014_x86_64.whl (586.0 MB)\n",
            "\u001b[2K   \u001b[90m━━━━━━━━━━━━━━━━━━━━━━━━━━━━━━━━━━━━━━━━\u001b[0m \u001b[32m586.0/586.0 MB\u001b[0m \u001b[31m2.8 MB/s\u001b[0m eta \u001b[36m0:00:00\u001b[0m\n",
            "\u001b[?25hDownloading keras-2.12.0-py2.py3-none-any.whl (1.7 MB)\n",
            "\u001b[2K   \u001b[90m━━━━━━━━━━━━━━━━━━━━━━━━━━━━━━━━━━━━━━━━\u001b[0m \u001b[32m1.7/1.7 MB\u001b[0m \u001b[31m19.3 MB/s\u001b[0m eta \u001b[36m0:00:00\u001b[0m\n",
            "\u001b[?25hDownloading larq-0.13.3-py3-none-any.whl (66 kB)\n",
            "\u001b[2K   \u001b[90m━━━━━━━━━━━━━━━━━━━━━━━━━━━━━━━━━━━━━━━━\u001b[0m \u001b[32m66.2/66.2 kB\u001b[0m \u001b[31m3.2 MB/s\u001b[0m eta \u001b[36m0:00:00\u001b[0m\n",
            "\u001b[?25hDownloading gast-0.4.0-py3-none-any.whl (9.8 kB)\n",
            "Downloading jax-0.4.30-py3-none-any.whl (2.0 MB)\n",
            "\u001b[2K   \u001b[90m━━━━━━━━━━━━━━━━━━━━━━━━━━━━━━━━━━━━━━━━\u001b[0m \u001b[32m2.0/2.0 MB\u001b[0m \u001b[31m43.2 MB/s\u001b[0m eta \u001b[36m0:00:00\u001b[0m\n",
            "\u001b[?25hDownloading numpy-1.23.5-cp311-cp311-manylinux_2_17_x86_64.manylinux2014_x86_64.whl (17.1 MB)\n",
            "\u001b[2K   \u001b[90m━━━━━━━━━━━━━━━━━━━━━━━━━━━━━━━━━━━━━━━━\u001b[0m \u001b[32m17.1/17.1 MB\u001b[0m \u001b[31m53.6 MB/s\u001b[0m eta \u001b[36m0:00:00\u001b[0m\n",
            "\u001b[?25hDownloading protobuf-4.25.7-cp37-abi3-manylinux2014_x86_64.whl (294 kB)\n",
            "\u001b[2K   \u001b[90m━━━━━━━━━━━━━━━━━━━━━━━━━━━━━━━━━━━━━━━━\u001b[0m \u001b[32m294.6/294.6 kB\u001b[0m \u001b[31m14.9 MB/s\u001b[0m eta \u001b[36m0:00:00\u001b[0m\n",
            "\u001b[?25hDownloading tensorboard-2.12.3-py3-none-any.whl (5.6 MB)\n",
            "\u001b[2K   \u001b[90m━━━━━━━━━━━━━━━━━━━━━━━━━━━━━━━━━━━━━━━━\u001b[0m \u001b[32m5.6/5.6 MB\u001b[0m \u001b[31m62.7 MB/s\u001b[0m eta \u001b[36m0:00:00\u001b[0m\n",
            "\u001b[?25hDownloading tensorflow_estimator-2.12.0-py2.py3-none-any.whl (440 kB)\n",
            "\u001b[2K   \u001b[90m━━━━━━━━━━━━━━━━━━━━━━━━━━━━━━━━━━━━━━━━\u001b[0m \u001b[32m440.7/440.7 kB\u001b[0m \u001b[31m22.4 MB/s\u001b[0m eta \u001b[36m0:00:00\u001b[0m\n",
            "\u001b[?25hDownloading terminaltables-3.1.10-py2.py3-none-any.whl (15 kB)\n",
            "Downloading wrapt-1.14.1-cp311-cp311-manylinux_2_5_x86_64.manylinux1_x86_64.manylinux_2_17_x86_64.manylinux2014_x86_64.whl (78 kB)\n",
            "\u001b[2K   \u001b[90m━━━━━━━━━━━━━━━━━━━━━━━━━━━━━━━━━━━━━━━━\u001b[0m \u001b[32m78.4/78.4 kB\u001b[0m \u001b[31m5.3 MB/s\u001b[0m eta \u001b[36m0:00:00\u001b[0m\n",
            "\u001b[?25hDownloading google_auth_oauthlib-1.0.0-py2.py3-none-any.whl (18 kB)\n",
            "Downloading jaxlib-0.4.30-cp311-cp311-manylinux2014_x86_64.whl (79.6 MB)\n",
            "\u001b[2K   \u001b[90m━━━━━━━━━━━━━━━━━━━━━━━━━━━━━━━━━━━━━━━━\u001b[0m \u001b[32m79.6/79.6 MB\u001b[0m \u001b[31m11.0 MB/s\u001b[0m eta \u001b[36m0:00:00\u001b[0m\n",
            "\u001b[?25hInstalling collected packages: wrapt, terminaltables, tensorflow-estimator, protobuf, numpy, keras, gast, larq, jaxlib, google-auth-oauthlib, tensorboard, jax, tensorflow\n",
            "  Attempting uninstall: wrapt\n",
            "    Found existing installation: wrapt 1.17.2\n",
            "    Uninstalling wrapt-1.17.2:\n",
            "      Successfully uninstalled wrapt-1.17.2\n",
            "  Attempting uninstall: protobuf\n",
            "    Found existing installation: protobuf 5.29.4\n",
            "    Uninstalling protobuf-5.29.4:\n",
            "      Successfully uninstalled protobuf-5.29.4\n",
            "  Attempting uninstall: numpy\n",
            "    Found existing installation: numpy 2.0.2\n",
            "    Uninstalling numpy-2.0.2:\n",
            "      Successfully uninstalled numpy-2.0.2\n",
            "  Attempting uninstall: keras\n",
            "    Found existing installation: keras 3.8.0\n",
            "    Uninstalling keras-3.8.0:\n",
            "      Successfully uninstalled keras-3.8.0\n",
            "  Attempting uninstall: gast\n",
            "    Found existing installation: gast 0.6.0\n",
            "    Uninstalling gast-0.6.0:\n",
            "      Successfully uninstalled gast-0.6.0\n",
            "  Attempting uninstall: jaxlib\n",
            "    Found existing installation: jaxlib 0.5.1\n",
            "    Uninstalling jaxlib-0.5.1:\n",
            "      Successfully uninstalled jaxlib-0.5.1\n",
            "  Attempting uninstall: google-auth-oauthlib\n",
            "    Found existing installation: google-auth-oauthlib 1.2.2\n",
            "    Uninstalling google-auth-oauthlib-1.2.2:\n",
            "      Successfully uninstalled google-auth-oauthlib-1.2.2\n",
            "  Attempting uninstall: tensorboard\n",
            "    Found existing installation: tensorboard 2.18.0\n",
            "    Uninstalling tensorboard-2.18.0:\n",
            "      Successfully uninstalled tensorboard-2.18.0\n",
            "  Attempting uninstall: jax\n",
            "    Found existing installation: jax 0.5.2\n",
            "    Uninstalling jax-0.5.2:\n",
            "      Successfully uninstalled jax-0.5.2\n",
            "  Attempting uninstall: tensorflow\n",
            "    Found existing installation: tensorflow 2.18.0\n",
            "    Uninstalling tensorflow-2.18.0:\n",
            "      Successfully uninstalled tensorflow-2.18.0\n",
            "\u001b[31mERROR: pip's dependency resolver does not currently take into account all the packages that are installed. This behaviour is the source of the following dependency conflicts.\n",
            "tensorflow-text 2.18.1 requires tensorflow<2.19,>=2.18.0, but you have tensorflow 2.12.0 which is incompatible.\n",
            "pymc 5.21.2 requires numpy>=1.25.0, but you have numpy 1.23.5 which is incompatible.\n",
            "imbalanced-learn 0.13.0 requires numpy<3,>=1.24.3, but you have numpy 1.23.5 which is incompatible.\n",
            "flax 0.10.5 requires jax>=0.5.1, but you have jax 0.4.30 which is incompatible.\n",
            "scikit-image 0.25.2 requires numpy>=1.24, but you have numpy 1.23.5 which is incompatible.\n",
            "chex 0.1.89 requires numpy>=1.24.1, but you have numpy 1.23.5 which is incompatible.\n",
            "tensorflow-decision-forests 1.11.0 requires tensorflow==2.18.0, but you have tensorflow 2.12.0 which is incompatible.\n",
            "treescope 0.1.9 requires numpy>=1.25.2, but you have numpy 1.23.5 which is incompatible.\n",
            "bigframes 2.1.0 requires numpy>=1.24.0, but you have numpy 1.23.5 which is incompatible.\n",
            "orbax-checkpoint 0.11.12 requires jax>=0.5.0, but you have jax 0.4.30 which is incompatible.\n",
            "xarray 2025.1.2 requires numpy>=1.24, but you have numpy 1.23.5 which is incompatible.\n",
            "albumentations 2.0.5 requires numpy>=1.24.4, but you have numpy 1.23.5 which is incompatible.\n",
            "thinc 8.3.6 requires numpy<3.0.0,>=2.0.0, but you have numpy 1.23.5 which is incompatible.\n",
            "tf-keras 2.18.0 requires tensorflow<2.19,>=2.18, but you have tensorflow 2.12.0 which is incompatible.\n",
            "blosc2 3.3.1 requires numpy>=1.26, but you have numpy 1.23.5 which is incompatible.\n",
            "ydf 0.11.0 requires protobuf<6.0.0,>=5.29.1, but you have protobuf 4.25.7 which is incompatible.\n",
            "grpcio-status 1.71.0 requires protobuf<6.0dev,>=5.26.1, but you have protobuf 4.25.7 which is incompatible.\n",
            "albucore 0.0.23 requires numpy>=1.24.4, but you have numpy 1.23.5 which is incompatible.\u001b[0m\u001b[31m\n",
            "\u001b[0mSuccessfully installed gast-0.4.0 google-auth-oauthlib-1.0.0 jax-0.4.30 jaxlib-0.4.30 keras-2.12.0 larq-0.13.3 numpy-1.23.5 protobuf-4.25.7 tensorboard-2.12.3 tensorflow-2.12.0 tensorflow-estimator-2.12.0 terminaltables-3.1.10 wrapt-1.14.1\n"
          ]
        },
        {
          "output_type": "display_data",
          "data": {
            "application/vnd.colab-display-data+json": {
              "pip_warning": {
                "packages": [
                  "numpy"
                ]
              },
              "id": "95918b308c7b4ed88fffc03018e1e67e"
            }
          },
          "metadata": {}
        }
      ],
      "source": [
        "!pip install tensorflow==2.12 keras==2.12 larq"
      ]
    },
    {
      "cell_type": "code",
      "source": [
        "import tensorflow as tf\n",
        "import larq as lq\n",
        "import numpy as np\n",
        "import os\n",
        "import shutil\n",
        "\n",
        "# Loading and preprocessing MNIST data\n",
        "(_, _), (test_images, test_labels) = tf.keras.datasets.mnist.load_data()\n",
        "test_images = test_images.reshape(-1, 784).astype(\"float32\") / 127.5 - 1\n",
        "test_labels = tf.keras.utils.to_categorical(test_labels, 10)"
      ],
      "metadata": {
        "colab": {
          "base_uri": "https://localhost:8080/"
        },
        "id": "nCN43XkKHUFd",
        "outputId": "f40f4290-760c-4856-88ec-6daa8c30a881"
      },
      "execution_count": 1,
      "outputs": [
        {
          "output_type": "stream",
          "name": "stdout",
          "text": [
            "Downloading data from https://storage.googleapis.com/tensorflow/tf-keras-datasets/mnist.npz\n",
            "11490434/11490434 [==============================] - 1s 0us/step\n"
          ]
        }
      ]
    },
    {
      "cell_type": "code",
      "source": [
        "# Loading the trained model\n",
        "model = tf.keras.models.load_model(\"model_trained/binarized_model\")\n",
        "\n",
        "# Compiling the model before evaluation\n",
        "model.compile(optimizer=\"adam\", loss=\"categorical_crossentropy\", metrics=[\"accuracy\"])"
      ],
      "metadata": {
        "colab": {
          "base_uri": "https://localhost:8080/"
        },
        "id": "gkdxiepnHWf7",
        "outputId": "13d03b6b-8977-42e0-a8c3-49e606f89e8d"
      },
      "execution_count": 2,
      "outputs": [
        {
          "output_type": "stream",
          "name": "stderr",
          "text": [
            "WARNING:tensorflow:No training configuration found in save file, so the model was *not* compiled. Compile it manually.\n"
          ]
        }
      ]
    },
    {
      "cell_type": "code",
      "source": [
        "# Function to binarize weights\n",
        "def get_binarized_weights(layer):\n",
        "    weights = layer.get_weights()[0]\n",
        "    quantizer = layer.kernel_quantizer\n",
        "    return quantizer(weights).numpy()"
      ],
      "metadata": {
        "id": "IDyRd4NNHcr5"
      },
      "execution_count": 3,
      "outputs": []
    },
    {
      "cell_type": "code",
      "source": [
        "# Printing binarized weights before row inversion\n",
        "print(\"\\nBinarized Weights Before Row Inversion:\")\n",
        "for layer in model.layers:\n",
        "    if isinstance(layer, lq.layers.QuantDense):\n",
        "        print(f\"\\nLayer: {layer.name}\")\n",
        "        print(get_binarized_weights(layer)[:10, :10])"
      ],
      "metadata": {
        "colab": {
          "base_uri": "https://localhost:8080/"
        },
        "id": "n4eBk6I7HirL",
        "outputId": "73796436-4dc4-4782-aaec-5c76051bbc16"
      },
      "execution_count": 4,
      "outputs": [
        {
          "output_type": "stream",
          "name": "stdout",
          "text": [
            "\n",
            "Binarized Weights Before Row Inversion:\n",
            "\n",
            "Layer: quant_dense\n",
            "[[-1.  1.  1.  1.  1.  1. -1. -1. -1.  1.]\n",
            " [ 1. -1. -1. -1.  1.  1.  1.  1. -1. -1.]\n",
            " [-1. -1.  1. -1. -1. -1.  1.  1.  1. -1.]\n",
            " [ 1. -1. -1. -1. -1. -1.  1.  1.  1. -1.]\n",
            " [ 1. -1.  1.  1.  1.  1. -1. -1. -1.  1.]\n",
            " [-1.  1.  1. -1. -1.  1.  1. -1. -1.  1.]\n",
            " [ 1. -1. -1. -1. -1. -1.  1.  1. -1.  1.]\n",
            " [ 1.  1.  1. -1.  1.  1.  1. -1. -1.  1.]\n",
            " [-1.  1. -1.  1. -1.  1.  1.  1.  1. -1.]\n",
            " [ 1. -1. -1.  1.  1.  1. -1. -1. -1.  1.]]\n",
            "\n",
            "Layer: quant_dense_1\n",
            "[[ 1. -1. -1.  1.  1. -1.  1.  1. -1. -1.]\n",
            " [-1. -1. -1. -1. -1. -1. -1. -1.  1.  1.]\n",
            " [ 1.  1.  1.  1. -1.  1.  1.  1. -1. -1.]\n",
            " [ 1.  1.  1.  1. -1. -1. -1. -1.  1.  1.]\n",
            " [ 1.  1.  1.  1. -1.  1. -1. -1.  1.  1.]\n",
            " [ 1.  1.  1.  1. -1. -1. -1.  1.  1. -1.]\n",
            " [-1.  1. -1.  1. -1. -1. -1.  1. -1.  1.]\n",
            " [-1.  1. -1. -1. -1. -1.  1. -1. -1. -1.]\n",
            " [-1. -1.  1.  1. -1.  1.  1.  1.  1. -1.]\n",
            " [ 1. -1.  1.  1. -1.  1. -1. -1.  1. -1.]]\n",
            "\n",
            "Layer: quant_dense_2\n",
            "[[ 1. -1.  1. -1. -1.  1.  1. -1. -1. -1.]\n",
            " [-1.  1. -1. -1. -1.  1. -1.  1. -1.  1.]\n",
            " [ 1. -1.  1.  1.  1.  1. -1. -1.  1. -1.]\n",
            " [-1. -1.  1. -1.  1.  1.  1. -1.  1. -1.]\n",
            " [ 1.  1. -1. -1.  1. -1.  1.  1.  1.  1.]\n",
            " [ 1. -1. -1.  1. -1.  1.  1.  1. -1.  1.]\n",
            " [-1.  1. -1.  1. -1.  1.  1.  1.  1.  1.]\n",
            " [ 1. -1.  1. -1.  1. -1. -1.  1.  1. -1.]\n",
            " [-1.  1.  1. -1.  1. -1. -1.  1.  1. -1.]\n",
            " [ 1.  1.  1.  1.  1. -1.  1. -1. -1. -1.]]\n",
            "\n",
            "Layer: quant_dense_3\n",
            "[[ 1.  1. -1. -1.  1. -1.  1.  1. -1. -1.]\n",
            " [-1.  1.  1.  1. -1. -1. -1.  1.  1. -1.]\n",
            " [ 1. -1. -1.  1. -1.  1.  1. -1. -1. -1.]\n",
            " [ 1. -1.  1. -1.  1. -1.  1.  1. -1. -1.]\n",
            " [ 1.  1. -1.  1. -1.  1.  1.  1. -1.  1.]\n",
            " [-1. -1. -1. -1. -1.  1. -1. -1.  1.  1.]\n",
            " [ 1.  1.  1. -1. -1.  1. -1.  1. -1. -1.]\n",
            " [-1. -1.  1. -1. -1. -1.  1. -1.  1. -1.]\n",
            " [-1. -1. -1. -1. -1. -1.  1. -1.  1.  1.]\n",
            " [-1.  1.  1. -1.  1.  1. -1.  1. -1. -1.]]\n"
          ]
        }
      ]
    },
    {
      "cell_type": "code",
      "source": [
        "# Row inversion function\n",
        "def apply_row_inversion(model):\n",
        "    for layer in model.layers:\n",
        "        if isinstance(layer, lq.layers.QuantDense):\n",
        "            weights = layer.get_weights()\n",
        "            if weights:\n",
        "                W = weights[0]\n",
        "                rows = W.shape[0]\n",
        "                row_puf = np.random.randint(0, 2, size=rows)\n",
        "                W_new = np.copy(W)\n",
        "                for r in range(rows):\n",
        "                    if row_puf[r] == 1:\n",
        "                        W_new[r, :] *= -1\n",
        "                layer.set_weights([W_new])\n",
        "    print(\"\\nRow Inversion Applied.\")"
      ],
      "metadata": {
        "id": "uFZ-2uKOHnh3"
      },
      "execution_count": 5,
      "outputs": []
    },
    {
      "cell_type": "code",
      "source": [
        "# Applying row inversion\n",
        "apply_row_inversion(model)"
      ],
      "metadata": {
        "colab": {
          "base_uri": "https://localhost:8080/"
        },
        "id": "P6YiuMgHHq4k",
        "outputId": "7d2c8233-c74b-4359-ac5d-a3acac55d526"
      },
      "execution_count": 6,
      "outputs": [
        {
          "output_type": "stream",
          "name": "stdout",
          "text": [
            "\n",
            "Row Inversion Applied.\n"
          ]
        }
      ]
    },
    {
      "cell_type": "code",
      "source": [
        "# Printing binarized weights after row inversion\n",
        "print(\"\\nBinarized Weights After Row Inversion:\")\n",
        "for layer in model.layers:\n",
        "    if isinstance(layer, lq.layers.QuantDense):\n",
        "        print(f\"\\nLayer: {layer.name}\")\n",
        "        print(get_binarized_weights(layer)[:10, :10])"
      ],
      "metadata": {
        "colab": {
          "base_uri": "https://localhost:8080/"
        },
        "id": "HyfB1G70HtD6",
        "outputId": "5c4086ce-72fe-4b48-be26-895ff43300ca"
      },
      "execution_count": 7,
      "outputs": [
        {
          "output_type": "stream",
          "name": "stdout",
          "text": [
            "\n",
            "Binarized Weights After Row Inversion:\n",
            "\n",
            "Layer: quant_dense\n",
            "[[ 1. -1. -1. -1. -1. -1.  1.  1.  1. -1.]\n",
            " [ 1. -1. -1. -1.  1.  1.  1.  1. -1. -1.]\n",
            " [-1. -1.  1. -1. -1. -1.  1.  1.  1. -1.]\n",
            " [-1.  1.  1.  1.  1.  1. -1. -1. -1.  1.]\n",
            " [-1.  1. -1. -1. -1. -1.  1.  1.  1. -1.]\n",
            " [ 1. -1. -1.  1.  1. -1. -1.  1.  1. -1.]\n",
            " [-1.  1.  1.  1.  1.  1. -1. -1.  1. -1.]\n",
            " [-1. -1. -1.  1. -1. -1. -1.  1.  1. -1.]\n",
            " [-1.  1. -1.  1. -1.  1.  1.  1.  1. -1.]\n",
            " [-1.  1.  1. -1. -1. -1.  1.  1.  1. -1.]]\n",
            "\n",
            "Layer: quant_dense_1\n",
            "[[ 1. -1. -1.  1.  1. -1.  1.  1. -1. -1.]\n",
            " [ 1.  1.  1.  1.  1.  1.  1.  1. -1. -1.]\n",
            " [-1. -1. -1. -1.  1. -1. -1. -1.  1.  1.]\n",
            " [-1. -1. -1. -1.  1.  1.  1.  1. -1. -1.]\n",
            " [-1. -1. -1. -1.  1. -1.  1.  1. -1. -1.]\n",
            " [-1. -1. -1. -1.  1.  1.  1. -1. -1.  1.]\n",
            " [ 1. -1.  1. -1.  1.  1.  1. -1.  1. -1.]\n",
            " [-1.  1. -1. -1. -1. -1.  1. -1. -1. -1.]\n",
            " [ 1.  1. -1. -1.  1. -1. -1. -1. -1.  1.]\n",
            " [ 1. -1.  1.  1. -1.  1. -1. -1.  1. -1.]]\n",
            "\n",
            "Layer: quant_dense_2\n",
            "[[-1.  1. -1.  1.  1. -1. -1.  1.  1.  1.]\n",
            " [ 1. -1.  1.  1.  1. -1.  1. -1.  1. -1.]\n",
            " [ 1. -1.  1.  1.  1.  1. -1. -1.  1. -1.]\n",
            " [ 1.  1. -1.  1. -1. -1. -1.  1. -1.  1.]\n",
            " [ 1.  1. -1. -1.  1. -1.  1.  1.  1.  1.]\n",
            " [-1.  1.  1. -1.  1. -1. -1. -1.  1. -1.]\n",
            " [-1.  1. -1.  1. -1.  1.  1.  1.  1.  1.]\n",
            " [ 1. -1.  1. -1.  1. -1. -1.  1.  1. -1.]\n",
            " [-1.  1.  1. -1.  1. -1. -1.  1.  1. -1.]\n",
            " [ 1.  1.  1.  1.  1. -1.  1. -1. -1. -1.]]\n",
            "\n",
            "Layer: quant_dense_3\n",
            "[[-1. -1.  1.  1. -1.  1. -1. -1.  1.  1.]\n",
            " [-1.  1.  1.  1. -1. -1. -1.  1.  1. -1.]\n",
            " [-1.  1.  1. -1.  1. -1. -1.  1.  1.  1.]\n",
            " [-1.  1. -1.  1. -1.  1. -1. -1.  1.  1.]\n",
            " [ 1.  1. -1.  1. -1.  1.  1.  1. -1.  1.]\n",
            " [ 1.  1.  1.  1.  1. -1.  1.  1. -1. -1.]\n",
            " [ 1.  1.  1. -1. -1.  1. -1.  1. -1. -1.]\n",
            " [-1. -1.  1. -1. -1. -1.  1. -1.  1. -1.]\n",
            " [-1. -1. -1. -1. -1. -1.  1. -1.  1.  1.]\n",
            " [-1.  1.  1. -1.  1.  1. -1.  1. -1. -1.]]\n"
          ]
        }
      ]
    },
    {
      "cell_type": "code",
      "source": [
        "# Evaluating the inverted model\n",
        "print(\"\\nModel Accuracy After Row Inversion:\")\n",
        "inv_loss, inv_acc = model.evaluate(test_images, test_labels)\n",
        "print(f\"Test Accuracy After Row Inversion: {inv_acc * 100:.2f}%\")"
      ],
      "metadata": {
        "colab": {
          "base_uri": "https://localhost:8080/"
        },
        "id": "nkFmR62AHMj3",
        "outputId": "a416fadd-01b5-4b85-bb40-5578fd2b0ac7"
      },
      "execution_count": 8,
      "outputs": [
        {
          "output_type": "stream",
          "name": "stdout",
          "text": [
            "\n",
            "Model Accuracy After Row Inversion:\n",
            "313/313 [==============================] - 2s 6ms/step - loss: 2.4620 - accuracy: 0.1004\n",
            "Test Accuracy After Row Inversion: 10.04%\n"
          ]
        }
      ]
    },
    {
      "cell_type": "code",
      "source": [
        "# Saving the inverted model\n",
        "os.makedirs(\"model_row_inverted\", exist_ok=True)\n",
        "model.save(\"model_row_inverted/binarized_model_row_inverted\", include_optimizer=False)\n",
        "\n",
        "# Zip the saved model directory\n",
        "shutil.make_archive(\"model_row_inverted\", 'zip', 'model_row_inverted')"
      ],
      "metadata": {
        "colab": {
          "base_uri": "https://localhost:8080/",
          "height": 72
        },
        "id": "Np_PxRB5HyZR",
        "outputId": "6f3f44a0-54c7-49ba-bc17-92fa4d1cd8da"
      },
      "execution_count": 9,
      "outputs": [
        {
          "output_type": "stream",
          "name": "stderr",
          "text": [
            "WARNING:absl:Found untraced functions such as ste_sign_layer_call_fn, ste_sign_layer_call_and_return_conditional_losses, ste_sign_1_layer_call_fn, ste_sign_1_layer_call_and_return_conditional_losses, ste_sign_2_layer_call_fn while saving (showing 5 of 16). These functions will not be directly callable after loading.\n"
          ]
        },
        {
          "output_type": "execute_result",
          "data": {
            "text/plain": [
              "'/content/model_row_inverted.zip'"
            ],
            "application/vnd.google.colaboratory.intrinsic+json": {
              "type": "string"
            }
          },
          "metadata": {},
          "execution_count": 9
        }
      ]
    }
  ]
}