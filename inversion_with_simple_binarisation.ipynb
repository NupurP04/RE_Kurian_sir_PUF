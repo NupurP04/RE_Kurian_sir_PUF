{
  "nbformat": 4,
  "nbformat_minor": 0,
  "metadata": {
    "colab": {
      "provenance": [],
      "toc_visible": true
    },
    "kernelspec": {
      "name": "python3",
      "display_name": "Python 3"
    },
    "language_info": {
      "name": "python"
    }
  },
  "cells": [
    {
      "cell_type": "code",
      "source": [
        "import numpy as np\n",
        "import tensorflow as tf\n",
        "from tensorflow.keras.models import Sequential\n",
        "from tensorflow.keras.layers import Dense, BatchNormalization\n",
        "\n",
        "# Generates a binary PUF response\n",
        "def generate_puf_response(size):\n",
        "    return np.random.randint(0, 2, size)\n",
        "\n",
        "# Function to binarize weights to +1/-1\n",
        "def binarize_weights(weights):\n",
        "    return np.where(weights >= 0, 1, -1)\n",
        "\n",
        "# Function to apply row inversion\n",
        "def apply_row_inversion(weights, puf_response):\n",
        "    transformed_weights = np.copy(weights)\n",
        "    for j in range(weights.shape[0]):\n",
        "        if puf_response[j] == 1:\n",
        "            transformed_weights[j, :] *= -1\n",
        "    return transformed_weights\n",
        "\n",
        "# Function to apply column inversion (including BN layer transformation)\n",
        "def apply_column_inversion(weights, puf_response, bn_beta):\n",
        "    transformed_weights = np.copy(weights)\n",
        "    transformed_bn_beta = np.copy(bn_beta) if bn_beta is not None else None\n",
        "    for k in range(weights.shape[1]):\n",
        "        if puf_response[k] == 1:\n",
        "            transformed_weights[:, k] *= -1\n",
        "            if transformed_bn_beta is not None:\n",
        "                transformed_bn_beta[k] = -bn_beta[k] + 2\n",
        "    return transformed_weights, transformed_bn_beta"
      ],
      "metadata": {
        "id": "BrP6cQMehr1e"
      },
      "execution_count": 1,
      "outputs": []
    },
    {
      "cell_type": "code",
      "source": [
        "\n",
        "# Loading MNIST dataset\n",
        "(x_train, y_train), (x_test, y_test) = tf.keras.datasets.mnist.load_data()\n",
        "x_train, x_test = x_train.reshape(-1, 28*28) / 255.0, x_test.reshape(-1, 28*28) / 255.0\n",
        "y_train, y_test = tf.keras.utils.to_categorical(y_train, 10), tf.keras.utils.to_categorical(y_test, 10)\n",
        "\n",
        "model = Sequential([\n",
        "    tf.keras.Input(shape=(28*28,)),\n",
        "    Dense(256, activation='tanh'),\n",
        "    BatchNormalization(),\n",
        "    Dense(128, activation='tanh'),\n",
        "    BatchNormalization(),\n",
        "    Dense(10, activation='softmax')\n",
        "])\n",
        "\n",
        "model.compile(optimizer='adam', loss='categorical_crossentropy', metrics=['accuracy'])\n",
        "model.fit(x_train, y_train, epochs=3, batch_size=64, verbose=1)\n",
        "\n",
        "dense_layers = [layer for layer in model.layers if isinstance(layer, Dense)]\n",
        "original_weights = [layer.get_weights()[0] for layer in dense_layers]"
      ],
      "metadata": {
        "colab": {
          "base_uri": "https://localhost:8080/"
        },
        "id": "55VbN5mghybv",
        "outputId": "314f3c9a-ef85-4b67-ebb1-490d4f0cc505"
      },
      "execution_count": 2,
      "outputs": [
        {
          "output_type": "stream",
          "name": "stdout",
          "text": [
            "Downloading data from https://storage.googleapis.com/tensorflow/tf-keras-datasets/mnist.npz\n",
            "\u001b[1m11490434/11490434\u001b[0m \u001b[32m━━━━━━━━━━━━━━━━━━━━\u001b[0m\u001b[37m\u001b[0m \u001b[1m0s\u001b[0m 0us/step\n",
            "Epoch 1/3\n",
            "\u001b[1m938/938\u001b[0m \u001b[32m━━━━━━━━━━━━━━━━━━━━\u001b[0m\u001b[37m\u001b[0m \u001b[1m13s\u001b[0m 7ms/step - accuracy: 0.8912 - loss: 0.3612\n",
            "Epoch 2/3\n",
            "\u001b[1m938/938\u001b[0m \u001b[32m━━━━━━━━━━━━━━━━━━━━\u001b[0m\u001b[37m\u001b[0m \u001b[1m7s\u001b[0m 8ms/step - accuracy: 0.9694 - loss: 0.1044\n",
            "Epoch 3/3\n",
            "\u001b[1m938/938\u001b[0m \u001b[32m━━━━━━━━━━━━━━━━━━━━\u001b[0m\u001b[37m\u001b[0m \u001b[1m9s\u001b[0m 6ms/step - accuracy: 0.9790 - loss: 0.0679\n"
          ]
        }
      ]
    },
    {
      "cell_type": "code",
      "source": [
        "# Extracting BN parameters\n",
        "bn_layers = [layer for layer in model.layers if isinstance(layer, BatchNormalization)]\n",
        "bn_params = [layer.get_weights() for layer in bn_layers]\n",
        "\n",
        "# Generating PUF responses\n",
        "row_puf_responses = [generate_puf_response(w.shape[0]) for w in original_weights]\n",
        "column_puf_responses = [generate_puf_response(w.shape[1]) for w in original_weights]\n"
      ],
      "metadata": {
        "id": "0A6HJ_Q-h2dB"
      },
      "execution_count": 3,
      "outputs": []
    },
    {
      "cell_type": "code",
      "source": [
        "# Applying row inversion transformation\n",
        "row_inverted_weights = [apply_row_inversion(binarize_weights(w), row_puf_responses[i]) for i, w in enumerate(original_weights)]\n",
        "\n",
        "# Applying column inversion transformation\n",
        "column_inverted_weights = []\n",
        "transformed_bn_params = []\n",
        "bn_idx = 0\n",
        "\n",
        "for i, w in enumerate(original_weights):\n",
        "    transformed_weight, transformed_bn = apply_column_inversion(binarize_weights(w), column_puf_responses[i], bn_params[bn_idx][1] if bn_idx < len(bn_params) else None)\n",
        "    column_inverted_weights.append(transformed_weight)\n",
        "\n",
        "    if bn_idx < len(bn_params):\n",
        "        modified_bn = bn_params[bn_idx].copy()\n",
        "        modified_bn[1] = transformed_bn\n",
        "        transformed_bn_params.append(modified_bn)\n",
        "        bn_idx += 1"
      ],
      "metadata": {
        "id": "5ygMCnedh820"
      },
      "execution_count": 4,
      "outputs": []
    },
    {
      "cell_type": "code",
      "source": [
        "# Function to set model weights\n",
        "def set_model_weights(model, weight_list, bn_param_list=None):\n",
        "    dense_idx = 0\n",
        "    bn_idx = 0\n",
        "\n",
        "    for layer in model.layers:\n",
        "        if isinstance(layer, Dense):\n",
        "            layer.set_weights([weight_list[dense_idx], layer.get_weights()[1]])  # Update weights, keep bias same\n",
        "            dense_idx += 1\n",
        "        elif isinstance(layer, BatchNormalization) and bn_param_list is not None and bn_idx < len(bn_param_list):\n",
        "            layer.set_weights(bn_param_list[bn_idx])  # Restore full BN state (beta, gamma, moving mean, moving variance)\n",
        "            bn_idx += 1\n",
        "\n",
        "# Recalibrating BN Layers after Reset\n",
        "def recalibrate_bn(model, x_train):\n",
        "    _ = model.predict(x_train[:1000])  # BN layers to recalculate running mean/variance\n",
        "\n",
        "# Printing sample weights\n",
        "print(\"\\n Original Weights (First 5 Rows of First Layer):\")\n",
        "print(original_weights[0][:5, :5])  # Prints top-left 5x5 block\n",
        "\n",
        "print(\"\\n Row-Inverted Weights (First 5 Rows of First Layer):\")\n",
        "print(row_inverted_weights[0][:5, :5])  # Prints transformed top-left 5x5 block\n",
        "\n",
        "print(\"\\n Column-Inverted Weights (First 5 Rows of First Layer):\")\n",
        "print(column_inverted_weights[0][:5, :5])  # Prints transformed top-left 5x5 block"
      ],
      "metadata": {
        "colab": {
          "base_uri": "https://localhost:8080/"
        },
        "id": "IwIhoxDNh_73",
        "outputId": "71e77b63-0560-4b6b-91db-6140fda584ad"
      },
      "execution_count": 7,
      "outputs": [
        {
          "output_type": "stream",
          "name": "stdout",
          "text": [
            "\n",
            " Original Weights (First 5 Rows of First Layer):\n",
            "[[-0.04834355 -0.0236179  -0.05918679 -0.0700252  -0.02417278]\n",
            " [-0.02399136 -0.0045144  -0.02999295 -0.00105073 -0.02742407]\n",
            " [ 0.00968273  0.06135601 -0.05243165 -0.0172565   0.06411999]\n",
            " [ 0.06873459  0.06485483  0.04170287 -0.03234712  0.07265869]\n",
            " [-0.03718681 -0.01764654  0.0632728  -0.03513824 -0.02239991]]\n",
            "\n",
            " Row-Inverted Weights (First 5 Rows of First Layer):\n",
            "[[ 1  1  1  1  1]\n",
            " [-1 -1 -1 -1 -1]\n",
            " [-1 -1  1  1 -1]\n",
            " [-1 -1 -1  1 -1]\n",
            " [-1 -1  1 -1 -1]]\n",
            "\n",
            " Column-Inverted Weights (First 5 Rows of First Layer):\n",
            "[[ 1 -1  1 -1  1]\n",
            " [ 1 -1  1 -1  1]\n",
            " [-1  1  1 -1 -1]\n",
            " [-1  1 -1 -1 -1]\n",
            " [ 1 -1 -1 -1  1]]\n"
          ]
        }
      ]
    },
    {
      "cell_type": "code",
      "source": [
        "# Evaluating Row-Inverted Model\n",
        "set_model_weights(model, row_inverted_weights)\n",
        "loss, row_inv_acc = model.evaluate(x_test, y_test, verbose=0)\n",
        "print(f\"\\nAccuracy after Row Inversion: {row_inv_acc * 100:.2f}%\")\n",
        "\n",
        "# Evaluating Column-Inverted Model\n",
        "set_model_weights(model, column_inverted_weights, transformed_bn_params)\n",
        "loss, col_inv_acc = model.evaluate(x_test, y_test, verbose=0)\n",
        "print(f\"Accuracy after Column Inversion: {col_inv_acc * 100:.2f}%\")\n",
        "\n",
        "# Original Model\n",
        "set_model_weights(model, original_weights, bn_params)\n",
        "recalibrate_bn(model, x_train)\n",
        "loss, original_acc = model.evaluate(x_test, y_test, verbose=0)\n",
        "print(f\"Original Model Accuracy: {original_acc * 100:.2f}% \")\n"
      ],
      "metadata": {
        "colab": {
          "base_uri": "https://localhost:8080/"
        },
        "id": "-2gLQcjbiEBq",
        "outputId": "15468869-d31f-4cb8-c9ac-8102bd6dcade"
      },
      "execution_count": 8,
      "outputs": [
        {
          "output_type": "stream",
          "name": "stdout",
          "text": [
            "\n",
            "Accuracy after Row Inversion: 9.72%\n",
            "Accuracy after Column Inversion: 7.19%\n",
            "\u001b[1m32/32\u001b[0m \u001b[32m━━━━━━━━━━━━━━━━━━━━\u001b[0m\u001b[37m\u001b[0m \u001b[1m0s\u001b[0m 2ms/step\n",
            "Original Model Accuracy: 97.44% \n"
          ]
        }
      ]
    }
  ]
}