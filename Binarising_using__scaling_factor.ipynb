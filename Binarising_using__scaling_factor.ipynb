{
  "nbformat": 4,
  "nbformat_minor": 0,
  "metadata": {
    "colab": {
      "provenance": [],
      "toc_visible": true
    },
    "kernelspec": {
      "name": "python3",
      "display_name": "Python 3"
    },
    "language_info": {
      "name": "python"
    }
  },
  "cells": [
    {
      "cell_type": "code",
      "execution_count": 1,
      "metadata": {
        "id": "CYcRFwdqZK9f"
      },
      "outputs": [],
      "source": [
        "import numpy as np\n",
        "import tensorflow as tf\n",
        "from tensorflow.keras.models import Sequential\n",
        "from tensorflow.keras.layers import Dense, BatchNormalization\n",
        "\n",
        "# Function to binarize weights with a scaling factor (as per the paper's method)\n",
        "def binarize_weights(weights):\n",
        "    alpha = np.mean(np.abs(weights))  # Computing layer-wise scaling factor\n",
        "    binary_weights = np.sign(weights)  # Applying sign function to binarize\n",
        "    return alpha * binary_weights  # Scaling binarized weights"
      ]
    },
    {
      "cell_type": "code",
      "source": [
        "(x_train, y_train), (x_test, y_test) = tf.keras.datasets.mnist.load_data()\n",
        "x_train, x_test = x_train.reshape(-1, 28*28) / 255.0, x_test.reshape(-1, 28*28) / 255.0\n",
        "y_train, y_test = tf.keras.utils.to_categorical(y_train, 10), tf.keras.utils.to_categorical(y_test, 10)\n",
        "\n",
        "# A standard Neural Network model (No binarization in training, only during evaluation)\n",
        "model = Sequential([\n",
        "    tf.keras.Input(shape=(28*28,)),\n",
        "    Dense(256, activation='tanh'),\n",
        "    BatchNormalization(),\n",
        "    Dense(128, activation='tanh'),\n",
        "    BatchNormalization(),\n",
        "    Dense(10, activation='softmax')\n",
        "])\n",
        "\n",
        "model.compile(optimizer='adam', loss='categorical_crossentropy', metrics=['accuracy'])\n",
        "model.fit(x_train, y_train, epochs=3, batch_size=64, verbose=1)\n",
        "\n",
        "# Evaluating the Original Model Before Any Changes\n",
        "loss, original_acc = model.evaluate(x_test, y_test, verbose=0)\n",
        "print(f\"\\n Original Model Accuracy (Floating Point): {original_acc * 100:.2f}%\")"
      ],
      "metadata": {
        "colab": {
          "base_uri": "https://localhost:8080/"
        },
        "id": "_eHUSNaYaVaf",
        "outputId": "4d46240a-6882-4e11-c5e7-4e59ad8a3f1d"
      },
      "execution_count": 2,
      "outputs": [
        {
          "output_type": "stream",
          "name": "stdout",
          "text": [
            "Downloading data from https://storage.googleapis.com/tensorflow/tf-keras-datasets/mnist.npz\n",
            "\u001b[1m11490434/11490434\u001b[0m \u001b[32m━━━━━━━━━━━━━━━━━━━━\u001b[0m\u001b[37m\u001b[0m \u001b[1m0s\u001b[0m 0us/step\n",
            "Epoch 1/3\n",
            "\u001b[1m938/938\u001b[0m \u001b[32m━━━━━━━━━━━━━━━━━━━━\u001b[0m\u001b[37m\u001b[0m \u001b[1m16s\u001b[0m 11ms/step - accuracy: 0.8926 - loss: 0.3554\n",
            "Epoch 2/3\n",
            "\u001b[1m938/938\u001b[0m \u001b[32m━━━━━━━━━━━━━━━━━━━━\u001b[0m\u001b[37m\u001b[0m \u001b[1m18s\u001b[0m 9ms/step - accuracy: 0.9654 - loss: 0.1145\n",
            "Epoch 3/3\n",
            "\u001b[1m938/938\u001b[0m \u001b[32m━━━━━━━━━━━━━━━━━━━━\u001b[0m\u001b[37m\u001b[0m \u001b[1m10s\u001b[0m 9ms/step - accuracy: 0.9789 - loss: 0.0697\n",
            "\n",
            " Original Model Accuracy (Floating Point): 97.45%\n"
          ]
        }
      ]
    },
    {
      "cell_type": "code",
      "source": [
        "# Extracting original floating-point weights after evaluating original model\n",
        "dense_layers = [layer for layer in model.layers if isinstance(layer, Dense)]\n",
        "original_weights = [layer.get_weights()[0] for layer in dense_layers]\n",
        "\n",
        "# Extracting Batch Normalization parameters\n",
        "bn_layers = [layer for layer in model.layers if isinstance(layer, BatchNormalization)]\n",
        "bn_params = [layer.get_weights() for layer in bn_layers]  # Extract full BN state\n",
        "\n",
        "# Binarizing the Weights\n",
        "binarized_weights = [binarize_weights(w) for w in original_weights]"
      ],
      "metadata": {
        "id": "hBewIdeBab7d"
      },
      "execution_count": 3,
      "outputs": []
    },
    {
      "cell_type": "code",
      "source": [
        "# Function to set model weights (including BN layers)\n",
        "def set_model_weights(model, weight_list, bn_param_list=None):\n",
        "    dense_idx = 0\n",
        "    bn_idx = 0\n",
        "\n",
        "    for layer in model.layers:\n",
        "        if isinstance(layer, Dense):\n",
        "            layer.set_weights([weight_list[dense_idx], layer.get_weights()[1]])  # Updating weights, keeping bias same\n",
        "            dense_idx += 1\n",
        "        elif isinstance(layer, BatchNormalization) and bn_param_list is not None and bn_idx < len(bn_param_list):\n",
        "            layer.set_weights(bn_param_list[bn_idx])  # Restoring full BN state (beta, gamma, moving mean, moving variance)\n",
        "            bn_idx += 1\n",
        "\n",
        "# Recalibrating BN Layers after Reset\n",
        "def recalibrate_bn(model, x_train):\n",
        "    _ = model.predict(x_train[:1000])  # Forcing BN layers to recalculate running mean/variance"
      ],
      "metadata": {
        "id": "dkdafMRLahq7"
      },
      "execution_count": 4,
      "outputs": []
    },
    {
      "cell_type": "code",
      "source": [
        "# Evaluating the Binarized Model (No Inversion, No Swapping)\n",
        "set_model_weights(model, binarized_weights, bn_params)\n",
        "recalibrate_bn(model, x_train)\n",
        "loss, binarized_acc = model.evaluate(x_test, y_test, verbose=0)\n",
        "\n",
        "# Results\n",
        "print(f\"\\n Binarized Model Accuracy (No Swapping/Inversion): {binarized_acc * 100:.2f}% \")\n"
      ],
      "metadata": {
        "colab": {
          "base_uri": "https://localhost:8080/"
        },
        "id": "8RocXNG9akH6",
        "outputId": "5d47d166-886b-4f86-efa9-7281de5c0b7a"
      },
      "execution_count": 5,
      "outputs": [
        {
          "output_type": "stream",
          "name": "stdout",
          "text": [
            "\u001b[1m32/32\u001b[0m \u001b[32m━━━━━━━━━━━━━━━━━━━━\u001b[0m\u001b[37m\u001b[0m \u001b[1m0s\u001b[0m 6ms/step\n",
            "\n",
            " Binarized Model Accuracy (No Swapping/Inversion): 84.63% \n"
          ]
        }
      ]
    }
  ]
}